{
  "nbformat": 4,
  "nbformat_minor": 0,
  "metadata": {
    "colab": {
      "name": "Wii_Test_colab.ipynb",
      "provenance": []
    },
    "kernelspec": {
      "name": "python3",
      "display_name": "Python 3"
    },
    "language_info": {
      "name": "python"
    },
    "accelerator": "TPU",
    "gpuClass": "standard"
  },
  "cells": [
    {
      "cell_type": "markdown",
      "source": [
        "#Yolo Test"
      ],
      "metadata": {
        "id": "U32A6R3Ig6ko"
      }
    },
    {
      "cell_type": "code",
      "source": [
        "from google.colab import drive\n",
        "drive.mount('/content/drive')"
      ],
      "metadata": {
        "colab": {
          "base_uri": "https://localhost:8080/"
        },
        "id": "tn0mUiuCpeVs",
        "outputId": "241e7a94-4dd5-4179-80e5-3af768c7006f"
      },
      "execution_count": 1,
      "outputs": [
        {
          "output_type": "stream",
          "name": "stdout",
          "text": [
            "Mounted at /content/drive\n"
          ]
        }
      ]
    },
    {
      "cell_type": "code",
      "source": [
        "!git clone https://github.com/07Agarg/WII_Segregation.git"
      ],
      "metadata": {
        "colab": {
          "base_uri": "https://localhost:8080/"
        },
        "id": "uwWCvvHtZuqV",
        "outputId": "fc1e6bbd-774f-4cb1-a0b9-7f0a55d2968b"
      },
      "execution_count": 2,
      "outputs": [
        {
          "output_type": "stream",
          "name": "stdout",
          "text": [
            "Cloning into 'WII_Segregation'...\n",
            "remote: Enumerating objects: 139, done.\u001b[K\n",
            "remote: Counting objects: 100% (139/139), done.\u001b[K\n",
            "remote: Compressing objects: 100% (109/109), done.\u001b[K\n",
            "remote: Total 139 (delta 29), reused 132 (delta 27), pack-reused 0\u001b[K\n",
            "Receiving objects: 100% (139/139), 866.74 KiB | 22.22 MiB/s, done.\n",
            "Resolving deltas: 100% (29/29), done.\n"
          ]
        }
      ]
    },
    {
      "cell_type": "code",
      "source": [
        "#read test zip file and unzip it in /tmp\n",
        "\n",
        "!unzip \"/content/Testing.zip\" -d \"/content\"\n"
      ],
      "metadata": {
        "id": "7sthagq5bcik",
        "colab": {
          "base_uri": "https://localhost:8080/"
        },
        "outputId": "4b06d2cb-86af-4176-adf3-0ec388036de7"
      },
      "execution_count": 3,
      "outputs": [
        {
          "output_type": "stream",
          "name": "stdout",
          "text": [
            "unzip:  cannot find or open /content/Testing.zip, /content/Testing.zip.zip or /content/Testing.zip.ZIP.\n"
          ]
        }
      ]
    },
    {
      "cell_type": "code",
      "source": [
        "!python /content/WII_Segregation/cv2_load_save.py --images_path '/content/Testing' --dest_path '../drive/MyDrive/Wildlife_Segregation_AITE_2022/empty_folder'"
      ],
      "metadata": {
        "colab": {
          "base_uri": "https://localhost:8080/"
        },
        "id": "4kgmsYgcg93T",
        "outputId": "1e95e843-02b8-42d4-f419-709d4b7a61c2"
      },
      "execution_count": 12,
      "outputs": [
        {
          "output_type": "stream",
          "name": "stdout",
          "text": [
            "Empty folder path didn't existed. I have created one for you!\n",
            "1\n",
            "2\n",
            "3\n",
            "4\n",
            "5\n",
            "6\n",
            "7\n",
            "8\n",
            "9\n",
            "10\n",
            "11\n",
            "12\n",
            "13\n",
            "14\n",
            "15\n",
            "16\n",
            "17\n",
            "18\n",
            "19\n",
            "20\n",
            "21\n",
            "22\n",
            "23\n",
            "24\n",
            "25\n",
            "26\n",
            "27\n",
            "28\n",
            "29\n",
            "30\n",
            "31\n",
            "32\n",
            "33\n",
            "34\n",
            "35\n",
            "36\n",
            "37\n",
            "Total empty images found are 0 and now moved to ../drive/MyDrive/Wildlife_Segregation_AITE_2022/empty_folder folder\n"
          ]
        }
      ]
    },
    {
      "cell_type": "code",
      "source": [
        "%cd /content/WII_Segregation/yolov5"
      ],
      "metadata": {
        "colab": {
          "base_uri": "https://localhost:8080/"
        },
        "id": "K3w7i3_7jBhy",
        "outputId": "6667be47-bf0e-4aa4-d8fc-91dfab9ca0d9"
      },
      "execution_count": 10,
      "outputs": [
        {
          "output_type": "stream",
          "name": "stdout",
          "text": [
            "/content/WII_Segregation/yolov5\n"
          ]
        }
      ]
    },
    {
      "cell_type": "code",
      "source": [
        "ls"
      ],
      "metadata": {
        "colab": {
          "base_uri": "https://localhost:8080/"
        },
        "id": "RJILCXByhP-r",
        "outputId": "a8f5328e-7973-463d-8411-2c1c99876d8d"
      },
      "execution_count": 13,
      "outputs": [
        {
          "output_type": "stream",
          "name": "stdout",
          "text": [
            "\u001b[0m\u001b[01;34mclassify\u001b[0m/  export.py   requirements.txt  train.py        val.py\n",
            "\u001b[01;34mdata\u001b[0m/      hubconf.py  setup.cfg         tutorial.ipynb\n",
            "detect.py  \u001b[01;34mmodels\u001b[0m/     \u001b[01;34mTesting\u001b[0m/          \u001b[01;34mutils\u001b[0m/\n"
          ]
        }
      ]
    },
    {
      "cell_type": "code",
      "source": [
        "%pip install -qr requirements.txt"
      ],
      "metadata": {
        "colab": {
          "base_uri": "https://localhost:8080/"
        },
        "id": "2wSN_VA0hUzG",
        "outputId": "171dfd2f-1f10-4ab7-c565-bb96e2e25e87"
      },
      "execution_count": 15,
      "outputs": [
        {
          "output_type": "stream",
          "name": "stdout",
          "text": [
            "\u001b[?25l\r\u001b[K     |▏                               | 10 kB 34.2 MB/s eta 0:00:01\r\u001b[K     |▍                               | 20 kB 45.3 MB/s eta 0:00:01\r\u001b[K     |▋                               | 30 kB 57.5 MB/s eta 0:00:01\r\u001b[K     |▉                               | 40 kB 50.0 MB/s eta 0:00:01\r\u001b[K     |█                               | 51 kB 55.1 MB/s eta 0:00:01\r\u001b[K     |█▎                              | 61 kB 61.1 MB/s eta 0:00:01\r\u001b[K     |█▌                              | 71 kB 47.9 MB/s eta 0:00:01\r\u001b[K     |█▊                              | 81 kB 51.0 MB/s eta 0:00:01\r\u001b[K     |█▉                              | 92 kB 46.4 MB/s eta 0:00:01\r\u001b[K     |██                              | 102 kB 41.3 MB/s eta 0:00:01\r\u001b[K     |██▎                             | 112 kB 41.3 MB/s eta 0:00:01\r\u001b[K     |██▌                             | 122 kB 41.3 MB/s eta 0:00:01\r\u001b[K     |██▊                             | 133 kB 41.3 MB/s eta 0:00:01\r\u001b[K     |███                             | 143 kB 41.3 MB/s eta 0:00:01\r\u001b[K     |███▏                            | 153 kB 41.3 MB/s eta 0:00:01\r\u001b[K     |███▍                            | 163 kB 41.3 MB/s eta 0:00:01\r\u001b[K     |███▌                            | 174 kB 41.3 MB/s eta 0:00:01\r\u001b[K     |███▊                            | 184 kB 41.3 MB/s eta 0:00:01\r\u001b[K     |████                            | 194 kB 41.3 MB/s eta 0:00:01\r\u001b[K     |████▏                           | 204 kB 41.3 MB/s eta 0:00:01\r\u001b[K     |████▍                           | 215 kB 41.3 MB/s eta 0:00:01\r\u001b[K     |████▋                           | 225 kB 41.3 MB/s eta 0:00:01\r\u001b[K     |████▉                           | 235 kB 41.3 MB/s eta 0:00:01\r\u001b[K     |█████                           | 245 kB 41.3 MB/s eta 0:00:01\r\u001b[K     |█████▎                          | 256 kB 41.3 MB/s eta 0:00:01\r\u001b[K     |█████▍                          | 266 kB 41.3 MB/s eta 0:00:01\r\u001b[K     |█████▋                          | 276 kB 41.3 MB/s eta 0:00:01\r\u001b[K     |█████▉                          | 286 kB 41.3 MB/s eta 0:00:01\r\u001b[K     |██████                          | 296 kB 41.3 MB/s eta 0:00:01\r\u001b[K     |██████▎                         | 307 kB 41.3 MB/s eta 0:00:01\r\u001b[K     |██████▌                         | 317 kB 41.3 MB/s eta 0:00:01\r\u001b[K     |██████▊                         | 327 kB 41.3 MB/s eta 0:00:01\r\u001b[K     |███████                         | 337 kB 41.3 MB/s eta 0:00:01\r\u001b[K     |███████                         | 348 kB 41.3 MB/s eta 0:00:01\r\u001b[K     |███████▎                        | 358 kB 41.3 MB/s eta 0:00:01\r\u001b[K     |███████▌                        | 368 kB 41.3 MB/s eta 0:00:01\r\u001b[K     |███████▊                        | 378 kB 41.3 MB/s eta 0:00:01\r\u001b[K     |████████                        | 389 kB 41.3 MB/s eta 0:00:01\r\u001b[K     |████████▏                       | 399 kB 41.3 MB/s eta 0:00:01\r\u001b[K     |████████▍                       | 409 kB 41.3 MB/s eta 0:00:01\r\u001b[K     |████████▋                       | 419 kB 41.3 MB/s eta 0:00:01\r\u001b[K     |████████▉                       | 430 kB 41.3 MB/s eta 0:00:01\r\u001b[K     |█████████                       | 440 kB 41.3 MB/s eta 0:00:01\r\u001b[K     |█████████▏                      | 450 kB 41.3 MB/s eta 0:00:01\r\u001b[K     |█████████▍                      | 460 kB 41.3 MB/s eta 0:00:01\r\u001b[K     |█████████▋                      | 471 kB 41.3 MB/s eta 0:00:01\r\u001b[K     |█████████▉                      | 481 kB 41.3 MB/s eta 0:00:01\r\u001b[K     |██████████                      | 491 kB 41.3 MB/s eta 0:00:01\r\u001b[K     |██████████▎                     | 501 kB 41.3 MB/s eta 0:00:01\r\u001b[K     |██████████▌                     | 512 kB 41.3 MB/s eta 0:00:01\r\u001b[K     |██████████▋                     | 522 kB 41.3 MB/s eta 0:00:01\r\u001b[K     |██████████▉                     | 532 kB 41.3 MB/s eta 0:00:01\r\u001b[K     |███████████                     | 542 kB 41.3 MB/s eta 0:00:01\r\u001b[K     |███████████▎                    | 552 kB 41.3 MB/s eta 0:00:01\r\u001b[K     |███████████▌                    | 563 kB 41.3 MB/s eta 0:00:01\r\u001b[K     |███████████▊                    | 573 kB 41.3 MB/s eta 0:00:01\r\u001b[K     |████████████                    | 583 kB 41.3 MB/s eta 0:00:01\r\u001b[K     |████████████▏                   | 593 kB 41.3 MB/s eta 0:00:01\r\u001b[K     |████████████▍                   | 604 kB 41.3 MB/s eta 0:00:01\r\u001b[K     |████████████▌                   | 614 kB 41.3 MB/s eta 0:00:01\r\u001b[K     |████████████▊                   | 624 kB 41.3 MB/s eta 0:00:01\r\u001b[K     |█████████████                   | 634 kB 41.3 MB/s eta 0:00:01\r\u001b[K     |█████████████▏                  | 645 kB 41.3 MB/s eta 0:00:01\r\u001b[K     |█████████████▍                  | 655 kB 41.3 MB/s eta 0:00:01\r\u001b[K     |█████████████▋                  | 665 kB 41.3 MB/s eta 0:00:01\r\u001b[K     |█████████████▉                  | 675 kB 41.3 MB/s eta 0:00:01\r\u001b[K     |██████████████                  | 686 kB 41.3 MB/s eta 0:00:01\r\u001b[K     |██████████████▏                 | 696 kB 41.3 MB/s eta 0:00:01\r\u001b[K     |██████████████▍                 | 706 kB 41.3 MB/s eta 0:00:01\r\u001b[K     |██████████████▋                 | 716 kB 41.3 MB/s eta 0:00:01\r\u001b[K     |██████████████▉                 | 727 kB 41.3 MB/s eta 0:00:01\r\u001b[K     |███████████████                 | 737 kB 41.3 MB/s eta 0:00:01\r\u001b[K     |███████████████▎                | 747 kB 41.3 MB/s eta 0:00:01\r\u001b[K     |███████████████▌                | 757 kB 41.3 MB/s eta 0:00:01\r\u001b[K     |███████████████▊                | 768 kB 41.3 MB/s eta 0:00:01\r\u001b[K     |████████████████                | 778 kB 41.3 MB/s eta 0:00:01\r\u001b[K     |████████████████                | 788 kB 41.3 MB/s eta 0:00:01\r\u001b[K     |████████████████▎               | 798 kB 41.3 MB/s eta 0:00:01\r\u001b[K     |████████████████▌               | 808 kB 41.3 MB/s eta 0:00:01\r\u001b[K     |████████████████▊               | 819 kB 41.3 MB/s eta 0:00:01\r\u001b[K     |█████████████████               | 829 kB 41.3 MB/s eta 0:00:01\r\u001b[K     |█████████████████▏              | 839 kB 41.3 MB/s eta 0:00:01\r\u001b[K     |█████████████████▍              | 849 kB 41.3 MB/s eta 0:00:01\r\u001b[K     |█████████████████▋              | 860 kB 41.3 MB/s eta 0:00:01\r\u001b[K     |█████████████████▊              | 870 kB 41.3 MB/s eta 0:00:01\r\u001b[K     |██████████████████              | 880 kB 41.3 MB/s eta 0:00:01\r\u001b[K     |██████████████████▏             | 890 kB 41.3 MB/s eta 0:00:01\r\u001b[K     |██████████████████▍             | 901 kB 41.3 MB/s eta 0:00:01\r\u001b[K     |██████████████████▋             | 911 kB 41.3 MB/s eta 0:00:01\r\u001b[K     |██████████████████▉             | 921 kB 41.3 MB/s eta 0:00:01\r\u001b[K     |███████████████████             | 931 kB 41.3 MB/s eta 0:00:01\r\u001b[K     |███████████████████▎            | 942 kB 41.3 MB/s eta 0:00:01\r\u001b[K     |███████████████████▌            | 952 kB 41.3 MB/s eta 0:00:01\r\u001b[K     |███████████████████▋            | 962 kB 41.3 MB/s eta 0:00:01\r\u001b[K     |███████████████████▉            | 972 kB 41.3 MB/s eta 0:00:01\r\u001b[K     |████████████████████            | 983 kB 41.3 MB/s eta 0:00:01\r\u001b[K     |████████████████████▎           | 993 kB 41.3 MB/s eta 0:00:01\r\u001b[K     |████████████████████▌           | 1.0 MB 41.3 MB/s eta 0:00:01\r\u001b[K     |████████████████████▊           | 1.0 MB 41.3 MB/s eta 0:00:01\r\u001b[K     |█████████████████████           | 1.0 MB 41.3 MB/s eta 0:00:01\r\u001b[K     |█████████████████████▏          | 1.0 MB 41.3 MB/s eta 0:00:01\r\u001b[K     |█████████████████████▎          | 1.0 MB 41.3 MB/s eta 0:00:01\r\u001b[K     |█████████████████████▌          | 1.1 MB 41.3 MB/s eta 0:00:01\r\u001b[K     |█████████████████████▊          | 1.1 MB 41.3 MB/s eta 0:00:01\r\u001b[K     |██████████████████████          | 1.1 MB 41.3 MB/s eta 0:00:01\r\u001b[K     |██████████████████████▏         | 1.1 MB 41.3 MB/s eta 0:00:01\r\u001b[K     |██████████████████████▍         | 1.1 MB 41.3 MB/s eta 0:00:01\r\u001b[K     |██████████████████████▋         | 1.1 MB 41.3 MB/s eta 0:00:01\r\u001b[K     |██████████████████████▉         | 1.1 MB 41.3 MB/s eta 0:00:01\r\u001b[K     |███████████████████████         | 1.1 MB 41.3 MB/s eta 0:00:01\r\u001b[K     |███████████████████████▏        | 1.1 MB 41.3 MB/s eta 0:00:01\r\u001b[K     |███████████████████████▍        | 1.1 MB 41.3 MB/s eta 0:00:01\r\u001b[K     |███████████████████████▋        | 1.2 MB 41.3 MB/s eta 0:00:01\r\u001b[K     |███████████████████████▉        | 1.2 MB 41.3 MB/s eta 0:00:01\r\u001b[K     |████████████████████████        | 1.2 MB 41.3 MB/s eta 0:00:01\r\u001b[K     |████████████████████████▎       | 1.2 MB 41.3 MB/s eta 0:00:01\r\u001b[K     |████████████████████████▌       | 1.2 MB 41.3 MB/s eta 0:00:01\r\u001b[K     |████████████████████████▊       | 1.2 MB 41.3 MB/s eta 0:00:01\r\u001b[K     |████████████████████████▉       | 1.2 MB 41.3 MB/s eta 0:00:01\r\u001b[K     |█████████████████████████       | 1.2 MB 41.3 MB/s eta 0:00:01\r\u001b[K     |█████████████████████████▎      | 1.2 MB 41.3 MB/s eta 0:00:01\r\u001b[K     |█████████████████████████▌      | 1.2 MB 41.3 MB/s eta 0:00:01\r\u001b[K     |█████████████████████████▊      | 1.3 MB 41.3 MB/s eta 0:00:01\r\u001b[K     |██████████████████████████      | 1.3 MB 41.3 MB/s eta 0:00:01\r\u001b[K     |██████████████████████████▏     | 1.3 MB 41.3 MB/s eta 0:00:01\r\u001b[K     |██████████████████████████▍     | 1.3 MB 41.3 MB/s eta 0:00:01\r\u001b[K     |██████████████████████████▌     | 1.3 MB 41.3 MB/s eta 0:00:01\r\u001b[K     |██████████████████████████▊     | 1.3 MB 41.3 MB/s eta 0:00:01\r\u001b[K     |███████████████████████████     | 1.3 MB 41.3 MB/s eta 0:00:01\r\u001b[K     |███████████████████████████▏    | 1.3 MB 41.3 MB/s eta 0:00:01\r\u001b[K     |███████████████████████████▍    | 1.3 MB 41.3 MB/s eta 0:00:01\r\u001b[K     |███████████████████████████▋    | 1.4 MB 41.3 MB/s eta 0:00:01\r\u001b[K     |███████████████████████████▉    | 1.4 MB 41.3 MB/s eta 0:00:01\r\u001b[K     |████████████████████████████    | 1.4 MB 41.3 MB/s eta 0:00:01\r\u001b[K     |████████████████████████████▎   | 1.4 MB 41.3 MB/s eta 0:00:01\r\u001b[K     |████████████████████████████▍   | 1.4 MB 41.3 MB/s eta 0:00:01\r\u001b[K     |████████████████████████████▋   | 1.4 MB 41.3 MB/s eta 0:00:01\r\u001b[K     |████████████████████████████▉   | 1.4 MB 41.3 MB/s eta 0:00:01\r\u001b[K     |█████████████████████████████   | 1.4 MB 41.3 MB/s eta 0:00:01\r\u001b[K     |█████████████████████████████▎  | 1.4 MB 41.3 MB/s eta 0:00:01\r\u001b[K     |█████████████████████████████▌  | 1.4 MB 41.3 MB/s eta 0:00:01\r\u001b[K     |█████████████████████████████▊  | 1.5 MB 41.3 MB/s eta 0:00:01\r\u001b[K     |██████████████████████████████  | 1.5 MB 41.3 MB/s eta 0:00:01\r\u001b[K     |██████████████████████████████  | 1.5 MB 41.3 MB/s eta 0:00:01\r\u001b[K     |██████████████████████████████▎ | 1.5 MB 41.3 MB/s eta 0:00:01\r\u001b[K     |██████████████████████████████▌ | 1.5 MB 41.3 MB/s eta 0:00:01\r\u001b[K     |██████████████████████████████▊ | 1.5 MB 41.3 MB/s eta 0:00:01\r\u001b[K     |███████████████████████████████ | 1.5 MB 41.3 MB/s eta 0:00:01\r\u001b[K     |███████████████████████████████▏| 1.5 MB 41.3 MB/s eta 0:00:01\r\u001b[K     |███████████████████████████████▍| 1.5 MB 41.3 MB/s eta 0:00:01\r\u001b[K     |███████████████████████████████▋| 1.5 MB 41.3 MB/s eta 0:00:01\r\u001b[K     |███████████████████████████████▉| 1.6 MB 41.3 MB/s eta 0:00:01\r\u001b[K     |████████████████████████████████| 1.6 MB 41.3 MB/s eta 0:00:01\r\u001b[K     |████████████████████████████████| 1.6 MB 41.3 MB/s \n",
            "\u001b[?25h"
          ]
        }
      ]
    },
    {
      "cell_type": "code",
      "source": [
        "!python /content/WII_Segregation/yolov5/detect.py --source '/content/Testing' --weights /content/drive/MyDrive/best_28_072.pt --data /content/WII_Segregation/yolov5/data/wii_aite_2022_testing.yaml --img 640 --save-txt --save-conf --project /content/drive/MyDrive/ --name yolo_temp_test_data_70  --conf-thres 0.001 --iou-thres 0.6"
      ],
      "metadata": {
        "id": "IkPKX9ECA4na",
        "colab": {
          "base_uri": "https://localhost:8080/"
        },
        "outputId": "c28a5841-eaa2-4c72-a8d4-efe66c46ee83"
      },
      "execution_count": 19,
      "outputs": [
        {
          "output_type": "stream",
          "name": "stdout",
          "text": [
            "\u001b[34m\u001b[1mdetect: \u001b[0mweights=['/content/drive/MyDrive/best_28_072.pt'], source=/content/Testing, data=/content/WII_Segregation/yolov5/data/wii_aite_2022_testing.yaml, imgsz=[640, 640], conf_thres=0.001, iou_thres=0.6, max_det=1000, device=, view_img=False, save_txt=True, save_conf=True, save_crop=False, nosave=False, classes=None, agnostic_nms=False, augment=False, visualize=False, update=False, project=runs/detect, name=yolo_temp_test_data_70, exist_ok=False, line_thickness=3, hide_labels=False, hide_conf=False, half=False, dnn=False\n",
            "YOLOv5 🚀 2022-8-30 Python-3.7.13 torch-1.12.1+cu113 CPU\n",
            "\n",
            "Fusing layers... \n",
            "YOLOv5x summary: 444 layers, 86718463 parameters, 0 gradients\n",
            "image 1/37 /content/Testing/IMG (9).jpg: 480x640 2 pavo_criss, 2840.0ms\n",
            "image 2/37 /content/Testing/IMG (90).jpg: 480x640 5 pavo_criss, 3375.7ms\n",
            "image 3/37 /content/Testing/IMG (91).jpg: 480x640 1 gall_gall-Gallus gallus, 5 pavo_criss, 2824.8ms\n",
            "image 4/37 /content/Testing/IMG (92).jpg: 480x640 2 hyst_indi-Hystrix indicas, 1 lepu_nigr-Lepus nigricollis, 7 pavo_criss, 1 semn_ente-Semnopithecus entellus, 1 vive_zibe-Viverra zibetha, 2818.8ms\n",
            "image 5/37 /content/Testing/IMG (93).jpg: 480x640 7 maca_mula-Macaca mulattas, 4 pavo_criss, 1 semn_ente-Semnopithecus entellus, 1 trac_john-Trachypithecus johnii, 2840.2ms\n",
            "image 6/37 /content/Testing/IMG (94).jpg: 480x640 1 gall_gall-Gallus gallus, 1 pavo_cris, 3 vara_beng-Varanus bengalensiss, 2825.0ms\n",
            "image 7/37 /content/Testing/IMG (95).jpg: 480x640 1 bos__indi, 11 pavo_criss, 2 semn_ente-Semnopithecus entelluss, 2803.1ms\n",
            "image 8/37 /content/Testing/IMG (96).jpg: 480x640 1 bos__indi, 8 pavo_criss, 2804.1ms\n",
            "image 9/37 /content/Testing/IMG (97).jpg: 480x640 1 bos__indi, 1 gall_gall-Gallus gallus, 2 pavo_criss, 1 vara_beng-Varanus bengalensis, 3792.0ms\n",
            "image 10/37 /content/Testing/IMG (98).jpg: 480x640 1 bos__indi, 2 gall_gall-Gallus galluss, 2 pavo_criss, 2872.1ms\n",
            "image 11/37 /content/Testing/IMG (99).jpg: 480x640 1 cani_aure-Canis aureus, 4 dome_dogs-Domestic dogs, 4 homo_sapis, 4 pavo_criss, 2806.6ms\n",
            "image 12/37 /content/Testing/I__00000.JPG: 384x640 5 elep_maxi-Elephas maximuss, 1 maca_arct-Macaca arctoides, 1 melu_ursi, 2235.8ms\n",
            "image 13/37 /content/Testing/I__00001 (10).JPG: 384x640 1 bird_bird, 4 homo_sapis, 1 semn_ente-Semnopithecus entellus, 3 vehi_vehis, 2211.3ms\n",
            "image 14/37 /content/Testing/I__00001 (2).JPG: 384x640 1 bos__gaur, 14 homo_sapis, 2 semn_ente-Semnopithecus entelluss, 5 vehi_vehis, 2227.4ms\n",
            "image 15/37 /content/Testing/I__00001 (3).JPG: 384x640 19 vehi_vehis, 2220.3ms\n",
            "image 16/37 /content/Testing/I__00001 (4).JPG: 384x640 3 goat_sheeps, 7 homo_sapis, 2 vehi_vehis, 2229.7ms\n",
            "image 17/37 /content/Testing/I__00001 (5).JPG: 384x640 3 vehi_vehis, 2250.3ms\n",
            "image 18/37 /content/Testing/I__00001 (6).JPG: 384x640 11 vehi_vehis, 2226.0ms\n",
            "image 19/37 /content/Testing/I__00001 (7).JPG: 384x640 3 bos__gaurs, 1 melu_ursi, 5 semn_ente-Semnopithecus entelluss, 2 semn_john+Semnopithecus johniis, 2230.8ms\n",
            "image 20/37 /content/Testing/I__00001 (8).JPG: 384x640 1 axis_axis, 9 bos__gaurs, 2 elep_maxi-Elephas maximuss, 3 semn_ente-Semnopithecus entelluss, 10 sus__scro-Sus scrofas, 2237.0ms\n",
            "image 21/37 /content/Testing/I__00001 (9).JPG: 384x640 1 herp_edwa-Herpestes edwardsii, 7 homo_sapis, 1 semn_ente-Semnopithecus entellus, 2248.7ms\n",
            "image 22/37 /content/Testing/I__00161 (4).JPG: 384x640 3 vive_indi-Viverricula indicas, 2236.1ms\n",
            "image 23/37 /content/Testing/I__00163 (7).JPG: 384x640 1 cani_aure-Canis aureus, 4 vive_indi-Viverricula indicas, 2220.8ms\n",
            "image 24/37 /content/Testing/I__00164 (7).JPG: 384x640 3 lepu_nigr-Lepus nigricolliss, 2 vive_indi-Viverricula indicas, 2245.1ms\n",
            "image 25/37 /content/Testing/I__00186.JPG: 384x640 1 melu_ursi, 1 sus__scro-Sus scrofa, 4 vive_indi-Viverricula indicas, 2226.4ms\n",
            "image 26/37 /content/Testing/I__00187.JPG: 384x640 4 vive_indi-Viverricula indicas, 2240.0ms\n",
            "image 27/37 /content/Testing/I__00188.JPG: 384x640 2 vive_indi-Viverricula indicas, 2245.3ms\n",
            "image 28/37 /content/Testing/I__00189.JPG: 384x640 2 vive_indi-Viverricula indicas, 2217.9ms\n",
            "image 29/37 /content/Testing/I__00190 (4).JPG: 384x640 3 vive_indi-Viverricula indicas, 2230.4ms\n",
            "image 30/37 /content/Testing/I__00191.JPG: 384x640 3 vive_indi-Viverricula indicas, 2234.3ms\n",
            "image 31/37 /content/Testing/I__00192.JPG: 384x640 3 vive_indi-Viverricula indicas, 2224.2ms\n",
            "image 32/37 /content/Testing/I__00229 (3).JPG: 384x640 2 vive_indi-Viverricula indicas, 2219.6ms\n",
            "image 33/37 /content/Testing/I__00381 (3).JPG: 384x640 2 vive_indi-Viverricula indicas, 2229.9ms\n",
            "image 34/37 /content/Testing/I__00383 (3).JPG: 384x640 4 vive_indi-Viverricula indicas, 2220.3ms\n",
            "image 35/37 /content/Testing/I__00384 (3).JPG: 384x640 5 vive_indi-Viverricula indicas, 2257.1ms\n",
            "image 36/37 /content/Testing/I__00385 (3).JPG: 384x640 4 vive_indi-Viverricula indicas, 2239.8ms\n",
            "image 37/37 /content/Testing/I__00388 (3).JPG: 384x640 4 vive_indi-Viverricula indicas, 2238.8ms\n",
            "Speed: 0.6ms pre-process, 2449.9ms inference, 1.4ms NMS per image at shape (1, 3, 640, 640)\n",
            "Results saved to \u001b[1mruns/detect/yolo_temp_test_data_702\u001b[0m\n",
            "37 labels saved to runs/detect/yolo_temp_test_data_702/labels\n"
          ]
        }
      ]
    },
    {
      "cell_type": "code",
      "source": [
        "!pip3 install iptcinfo3"
      ],
      "metadata": {
        "colab": {
          "base_uri": "https://localhost:8080/"
        },
        "id": "hhaqaOWOryt9",
        "outputId": "df691325-140f-42a3-80ac-afbdef92365e"
      },
      "execution_count": 26,
      "outputs": [
        {
          "output_type": "stream",
          "name": "stdout",
          "text": [
            "Looking in indexes: https://pypi.org/simple, https://us-python.pkg.dev/colab-wheels/public/simple/\n",
            "Collecting iptcinfo3\n",
            "  Downloading IPTCInfo3-2.1.4-py3-none-any.whl (12 kB)\n",
            "Installing collected packages: iptcinfo3\n",
            "Successfully installed iptcinfo3-2.1.4\n"
          ]
        }
      ]
    },
    {
      "cell_type": "code",
      "source": [
        "!python /content/WII_Segregation/tag_images.py --images_path /content/Testing --pred_path /content/WII_Segregation/yolov5/runs/detect/yolo_temp_test_data_702/labels --tagged_path /content/drive/MyDrive/"
      ],
      "metadata": {
        "id": "03NruZ9QqpHH"
      },
      "execution_count": null,
      "outputs": []
    },
    {
      "cell_type": "code",
      "source": [],
      "metadata": {
        "id": "l9nEjiQvrwfj"
      },
      "execution_count": null,
      "outputs": []
    }
  ]
}